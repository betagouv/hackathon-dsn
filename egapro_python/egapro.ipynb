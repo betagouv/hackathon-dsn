{
 "cells": [
  {
   "cell_type": "code",
   "execution_count": 1,
   "metadata": {},
   "outputs": [
    {
     "data": {
      "text/plain": [
       "True"
      ]
     },
     "execution_count": 1,
     "metadata": {},
     "output_type": "execute_result"
    }
   ],
   "source": [
    "import os\n",
    "import pandas as pd\n",
    "import psycopg2\n",
    "from dotenv import load_dotenv\n",
    "\n",
    "load_dotenv()"
   ]
  },
  {
   "cell_type": "code",
   "execution_count": 53,
   "metadata": {},
   "outputs": [],
   "source": [
    "# Establish a connection to the database\n",
    "# Replace 'database_name', 'user', and 'password' with your database details\n",
    "conn = psycopg2.connect(\n",
    "    dbname='dsn', \n",
    "    user=os.getenv('USERNAME_DB'),\n",
    "    password=os.getenv('PASSWORD_DB'), \n",
    "    host='10.0.0.1'\n",
    ")\n",
    "\n",
    "# Create a cursor object\n",
    "cur = conn.cursor()\n",
    "\n",
    "# Execute a query\n",
    "cur.execute(\"\"\"\n",
    "    select\n",
    "\tEXTRACT(MONTH FROM ddadtsalaire_base.date_debut_paie) as MONTH,\n",
    "\tEXTRACT(YEAR FROM ddadtsalaire_base.date_debut_paie) as YEAR,\n",
    "  ddadtassure.id,\n",
    "\tddadtcontrat.num_contrat,\n",
    "  ddadtassure.sexe,\n",
    "  EXTRACT(YEAR FROM age(NOW(), TO_DATE(ddadtassure.date_naissance, 'DDMMYYYY'))) as age,\n",
    "  ddadtcontrat.unite_mesure,\n",
    "  ddadtcontrat.quotite,\n",
    "  ddadtcontrat.quotite_categorie,\n",
    "  ddadtcontrat.pcs_ese,\n",
    "\tddadtcontrat.statut_conventionnel, -- CSP\n",
    "\tddadtcontrat.dispositif_politique, -- type contrat (pour exclusions)\n",
    "  ddadtcontrat.nature_contrat, -- S21.G00.40.007\n",
    "  ddadtsalaire_base.montant as SALAIRE_BRUT\n",
    "  from  ddadtsalaire_base\n",
    "\tleft join ddadtversement on ddadtversement.id=ddadtsalaire_base.id_versement\n",
    "  left join ddadtemployeur_assure on ddadtemployeur_assure.id=ddadtversement.id_employeur_assure\n",
    "  left join ddadtassure on ddadtassure.id=ddadtemployeur_assure.id_assure\n",
    "  left join ddadtcontrat on ddadtcontrat.id_employeur_assure=ddadtemployeur_assure.id and ddadtsalaire_base.numero_contrat=ddadtcontrat.num_contrat\n",
    "  where ddadtemployeur_assure.id_employeur=1069987;\"\"\")\n",
    "\n",
    "# Fetch the results\n",
    "records = cur.fetchall()\n",
    "\n",
    "df_salaires = pd.DataFrame(records, columns=['month', 'year', 'id_assure', 'num_contrat', 'sexe', 'age', 'unite_mesure',\n",
    "       'quotite', 'quotite_categorie', 'pcs_ese', 'statut_conventionnel', 'dispositif_politique',\n",
    "       'nature_contrat', 'salaire_brut'])\n",
    "\n",
    "# tous les congés maternité qui ont repris en 2023\n",
    "cur.execute(\"\"\"\n",
    "\n",
    "select\n",
    "\tddadtemployeur_assure.id_assure,\n",
    "  id_contrat,motif_arret,\n",
    "  date_dernier_jour_travaille,\n",
    "  max(date_reprise) as MAX_REPRISE,\n",
    "\n",
    "\t-- salaire au dernier jour travaillé\n",
    "  (\n",
    "    SELECT SUM(montant)\n",
    "    from  ddadtsalaire_base\n",
    "    left join ddadtversement on ddadtversement.id=ddadtsalaire_base.id_versement\n",
    "    left join ddadtemployeur_assure ddadtemployeur_assure2  on ddadtemployeur_assure2.id=ddadtversement.id_employeur_assure\n",
    "    where ddadtemployeur_assure2.id_employeur=1069987 and  ddadtemployeur_assure2.id_assure=ddadtemployeur_assure.id_assure and EXTRACT(MONTH from date_debut_paie)=EXTRACT(MONTH from max(date_dernier_jour_travaille)) and EXTRACT(YEAR from date_debut_paie)=EXTRACT(YEAR from max(date_dernier_jour_travaille))\n",
    "  ) as SALAIRE1,\n",
    "\n",
    "  -- salaire à la reprise\n",
    "  (\n",
    "    SELECT SUM(montant)\n",
    "    from  ddadtsalaire_base\n",
    "    left join ddadtversement on ddadtversement.id=ddadtsalaire_base.id_versement\n",
    "    left join ddadtemployeur_assure ddadtemployeur_assure2  on ddadtemployeur_assure2.id=ddadtversement.id_employeur_assure\n",
    "    where ddadtemployeur_assure2.id_employeur=1069987 and  ddadtemployeur_assure2.id_assure=ddadtemployeur_assure.id_assure and EXTRACT(MONTH from date_debut_paie)=EXTRACT(MONTH from max(date_reprise)) and EXTRACT(YEAR from date_debut_paie)=EXTRACT(YEAR from max(date_reprise))\n",
    "  ) as SALAIRE2\n",
    "\n",
    "\n",
    " from ddadtarret_trav\n",
    "left join ddadtcontrat on ddadtcontrat.id=ddadtarret_trav.id_contrat\n",
    "left join ddadtemployeur_assure on ddadtemployeur_assure.id=ddadtcontrat.id_employeur_assure\n",
    "where ddadtemployeur_assure.id_employeur=1069987 and motif_arret='02' and EXTRACT(YEAR from date_reprise)=2023\n",
    "group by ddadtemployeur_assure.id_assure,id_contrat,motif_arret,date_dernier_jour_travaille\n",
    "\n",
    "\"\"\")\n",
    "\n",
    "records = cur.fetchall()\n",
    "\n",
    "df_maternites = pd.DataFrame(records, columns=[\"id_assure\", \"id_contrat\", \"motif_arret\", \"date_dernier_jour_travaille\", \"max_reprise\", \"salaire1\", \"salaire2\"])\n",
    "\n",
    "# Close the cursor and connection\n",
    "cur.close()\n",
    "conn.close()"
   ]
  },
  {
   "cell_type": "code",
   "execution_count": 61,
   "metadata": {},
   "outputs": [
    {
     "data": {
      "text/plain": [
       "{'index . écart rémunérations . employés . 50 ans et plus . remunération annuelle brute moyenne par EQTP . femmes': 1865.7451153846152,\n",
       " 'index . écart rémunérations . employés . 50 ans et plus . nombre salariés . femmes': 79.0,\n",
       " 'index . écart rémunérations . ingénieurs et cadres . 50 ans et plus . remunération annuelle brute moyenne par EQTP . femmes': 3726.8087255527216,\n",
       " 'index . écart rémunérations . ingénieurs et cadres . 50 ans et plus . nombre salariés . femmes': 168.0,\n",
       " 'index . écart rémunérations . techniciens et agents de maitrise . 50 ans et plus . remunération annuelle brute moyenne par EQTP . femmes': 2413.463118131868,\n",
       " 'index . écart rémunérations . techniciens et agents de maitrise . 50 ans et plus . nombre salariés . femmes': 112.0,\n",
       " 'index . écart rémunérations . employés . de 30 à 39 ans . remunération annuelle brute moyenne par EQTP . femmes': 1785.351361172161,\n",
       " 'index . écart rémunérations . employés . de 30 à 39 ans . nombre salariés . femmes': 20.0,\n",
       " 'index . écart rémunérations . ingénieurs et cadres . de 30 à 39 ans . remunération annuelle brute moyenne par EQTP . femmes': 3377.1047843932474,\n",
       " 'index . écart rémunérations . ingénieurs et cadres . de 30 à 39 ans . nombre salariés . femmes': 81.0,\n",
       " 'index . écart rémunérations . techniciens et agents de maitrise . de 30 à 39 ans . remunération annuelle brute moyenne par EQTP . femmes': 2241.697932692308,\n",
       " 'index . écart rémunérations . techniciens et agents de maitrise . de 30 à 39 ans . nombre salariés . femmes': 32.0,\n",
       " 'index . écart rémunérations . employés . de 40 à 49 ans . remunération annuelle brute moyenne par EQTP . femmes': 1800.9008786848074,\n",
       " 'index . écart rémunérations . employés . de 40 à 49 ans . nombre salariés . femmes': 42.0,\n",
       " 'index . écart rémunérations . ingénieurs et cadres . de 40 à 49 ans . remunération annuelle brute moyenne par EQTP . femmes': 3486.229604887147,\n",
       " 'index . écart rémunérations . ingénieurs et cadres . de 40 à 49 ans . nombre salariés . femmes': 136.0,\n",
       " 'index . écart rémunérations . techniciens et agents de maitrise . de 40 à 49 ans . remunération annuelle brute moyenne par EQTP . femmes': 2200.5268984714003,\n",
       " 'index . écart rémunérations . techniciens et agents de maitrise . de 40 à 49 ans . nombre salariés . femmes': 65.0,\n",
       " 'index . écart rémunérations . employés . moins de 30 ans . remunération annuelle brute moyenne par EQTP . femmes': 977.4653571428571,\n",
       " 'index . écart rémunérations . employés . moins de 30 ans . nombre salariés . femmes': 2.0,\n",
       " 'index . écart rémunérations . ingénieurs et cadres . moins de 30 ans . remunération annuelle brute moyenne par EQTP . femmes': 2854.8815267718396,\n",
       " 'index . écart rémunérations . ingénieurs et cadres . moins de 30 ans . nombre salariés . femmes': 24.0,\n",
       " 'index . écart rémunérations . techniciens et agents de maitrise . moins de 30 ans . remunération annuelle brute moyenne par EQTP . femmes': 2461.3552962962963,\n",
       " 'index . écart rémunérations . techniciens et agents de maitrise . moins de 30 ans . nombre salariés . femmes': 9.0,\n",
       " 'index . écart rémunérations . employés . 50 ans et plus . remunération annuelle brute moyenne par EQTP . hommes': 1963.1063425925927,\n",
       " 'index . écart rémunérations . employés . 50 ans et plus . nombre salariés . hommes': 18.0,\n",
       " 'index . écart rémunérations . ingénieurs et cadres . 50 ans et plus . remunération annuelle brute moyenne par EQTP . hommes': 4035.8826699677934,\n",
       " 'index . écart rémunérations . ingénieurs et cadres . 50 ans et plus . nombre salariés . hommes': 345.0,\n",
       " 'index . écart rémunérations . techniciens et agents de maitrise . 50 ans et plus . remunération annuelle brute moyenne par EQTP . hommes': 2468.9301972088942,\n",
       " 'index . écart rémunérations . techniciens et agents de maitrise . 50 ans et plus . nombre salariés . hommes': 71.0,\n",
       " 'index . écart rémunérations . employés . de 30 à 39 ans . remunération annuelle brute moyenne par EQTP . hommes': 1931.0697333333333,\n",
       " 'index . écart rémunérations . employés . de 30 à 39 ans . nombre salariés . hommes': 5.0,\n",
       " 'index . écart rémunérations . ingénieurs et cadres . de 30 à 39 ans . remunération annuelle brute moyenne par EQTP . hommes': 3442.573880192573,\n",
       " 'index . écart rémunérations . ingénieurs et cadres . de 30 à 39 ans . nombre salariés . hommes': 92.0,\n",
       " 'index . écart rémunérations . techniciens et agents de maitrise . de 30 à 39 ans . remunération annuelle brute moyenne par EQTP . hommes': 2426.3447504761907,\n",
       " 'index . écart rémunérations . techniciens et agents de maitrise . de 30 à 39 ans . nombre salariés . hommes': 25.0,\n",
       " 'index . écart rémunérations . employés . de 40 à 49 ans . remunération annuelle brute moyenne par EQTP . hommes': 1981.1738333333335,\n",
       " 'index . écart rémunérations . employés . de 40 à 49 ans . nombre salariés . hommes': 5.0,\n",
       " 'index . écart rémunérations . ingénieurs et cadres . de 40 à 49 ans . remunération annuelle brute moyenne par EQTP . hommes': 3710.013820385796,\n",
       " 'index . écart rémunérations . ingénieurs et cadres . de 40 à 49 ans . nombre salariés . hommes': 213.0,\n",
       " 'index . écart rémunérations . techniciens et agents de maitrise . de 40 à 49 ans . remunération annuelle brute moyenne par EQTP . hommes': 2422.485870497427,\n",
       " 'index . écart rémunérations . techniciens et agents de maitrise . de 40 à 49 ans . nombre salariés . hommes': 53.0,\n",
       " 'index . écart rémunérations . employés . moins de 30 ans . remunération annuelle brute moyenne par EQTP . hommes': 1469.538888888889,\n",
       " 'index . écart rémunérations . employés . moins de 30 ans . nombre salariés . hommes': 1.0,\n",
       " 'index . écart rémunérations . ingénieurs et cadres . moins de 30 ans . remunération annuelle brute moyenne par EQTP . hommes': 2809.379347697757,\n",
       " 'index . écart rémunérations . ingénieurs et cadres . moins de 30 ans . nombre salariés . hommes': 11.0,\n",
       " 'index . écart rémunérations . techniciens et agents de maitrise . moins de 30 ans . remunération annuelle brute moyenne par EQTP . hommes': 2055.0703253968254,\n",
       " 'index . écart rémunérations . techniciens et agents de maitrise . moins de 30 ans . nombre salariés . hommes': 5.0,\n",
       " 'index . hautes rémunérations . femmes': 5,\n",
       " 'index . hautes rémunérations . hommes': 5,\n",
       " 'index . maternité . nombre total': 7,\n",
       " 'index . maternité . nombre augmentés': 5}"
      ]
     },
     "execution_count": 61,
     "metadata": {},
     "output_type": "execute_result"
    }
   ],
   "source": [
    "json_structure[f\"index . maternité . nombre total\"] = len(df_maternites)\n",
    "json_structure[f\"index . maternité . nombre augmentés\"] = (df_maternites[\"salaire1\"]<df_maternites[\"salaire2\"]).sum()\n",
    "json_structure"
   ]
  },
  {
   "cell_type": "markdown",
   "metadata": {},
   "source": [
    "### Filtering data"
   ]
  },
  {
   "cell_type": "code",
   "execution_count": 3,
   "metadata": {},
   "outputs": [],
   "source": [
    "# Calcul du taux ETP\n",
    "df_salaires[\"equiv_etp\"] = df_salaires[\"quotite\"] / df_salaires[\"quotite_categorie\"]\n",
    "df_salaires[\"equiv_etp\"].apply(lambda x: min(x, 1))\n",
    "\n",
    "# Selection des personnes ayant un contrat de bonne nature légale, exclusion des apprentis et des contrats pro\n",
    "etp_annee = df_salaires.loc[(~df_salaires[\"nature_contrat\"].isin([\"08\", \"20\", \"21\", \"29\", \"50\", \"51\",\"52\", \"54\", \"70\", \"81\", \"90\"]))\n",
    "                            & (~df_salaires[\"dispositif_politique\"].isin([\"61\", \"64\", \"65\"]))\n",
    "                            & (df_salaires[\"year\"] == 2022), [\"id_assure\", \"equiv_etp\"]].groupby(by=\"id_assure\").sum()\n",
    "personnes_eligibles = etp_annee[etp_annee[\"equiv_etp\"] >= 6].index.values\n",
    "\n",
    "df_salaires_filtered = df_salaires[(df_salaires[\"year\"] == 2022) & (df_salaires[\"id_assure\"].isin(personnes_eligibles))].copy()"
   ]
  },
  {
   "cell_type": "markdown",
   "metadata": {},
   "source": [
    "### Mapping "
   ]
  },
  {
   "cell_type": "code",
   "execution_count": 4,
   "metadata": {},
   "outputs": [],
   "source": [
    "# Fais le mapping CSP\n",
    "mapping = {\n",
    "    \"01\": 'ouvriers',\n",
    "    \"02\": 'ouvriers',\n",
    "    \"03\": 'ingénieurs et cadres',\n",
    "    \"04\": 'ingénieurs et cadres',\n",
    "    \"05\": 'techniciens et agents de maitrise',\n",
    "    \"06\": 'employés',\n",
    "    \"07\": 'ouvriers',\n",
    "}\n",
    "df_salaires_filtered[\"categorie_csp\"] = df_salaires_filtered[\"statut_conventionnel\"].map(mapping)\n",
    "\n",
    "def categorize_age(age):\n",
    "    if age < 30:\n",
    "        return 'moins de 30 ans'\n",
    "    elif 30 <= age < 40:\n",
    "        return 'de 30 à 39 ans'\n",
    "    elif 40 <= age < 50:\n",
    "        return 'de 40 à 49 ans'\n",
    "    else:\n",
    "        return '50 ans et plus'\n",
    "\n",
    "# Apply the function to create the AgeCategory column\n",
    "df_salaires_filtered['categorie_age'] = df_salaires_filtered['age'].apply(categorize_age)"
   ]
  },
  {
   "cell_type": "markdown",
   "metadata": {},
   "source": [
    "### Indicateur 1 (rémunérations)"
   ]
  },
  {
   "cell_type": "code",
   "execution_count": 5,
   "metadata": {},
   "outputs": [],
   "source": [
    "import json\n",
    "\n",
    "df_salaires_filtered[\"salaire_proratise\"] = df_salaires_filtered[\"salaire_brut\"] * df_salaires_filtered[\"equiv_etp\"]\n",
    "df = df_salaires_filtered.groupby(by=[\"id_assure\", \"sexe\", \"categorie_age\", \"categorie_csp\"], as_index=False).aggregate({\"salaire_proratise\":\"sum\", \"equiv_etp\":\"sum\"})\n",
    "df[\"salaire_moyen\"] = df[\"salaire_proratise\"] / df[\"equiv_etp\"]\n",
    "\n",
    "# Attention on peut avoir des problèmes si plusieurs contrat pour la même personne.  Sinon on peut faire le calcul du salaire EQTP par salariés sur l'année. Calcul ETP aussi faux\n",
    "df = df.groupby(by=[\"sexe\", \"categorie_age\", \"categorie_csp\"]).aggregate({\"salaire_moyen\": \"mean\", \"id_assure\": \"count\"})\n",
    "json_structure = {}\n",
    "\n",
    "for (sexe, age, csp), row in df.iterrows() :\n",
    "    key_base = f\"index . écart rémunérations . {csp} . {age}\"\n",
    "    \n",
    "    if sexe == \"H\":\n",
    "        sex_key = \"hommes\"\n",
    "    else:\n",
    "        sex_key = \"femmes\"\n",
    "        \n",
    "    json_structure[f\"{key_base} . remunération annuelle brute moyenne par EQTP . {sex_key}\"] = row['salaire_moyen']\n",
    "    json_structure[f\"{key_base} . nombre salariés . {sex_key}\"] = row['id_assure']\n",
    "\n",
    "\n",
    "# Convert to JSON\n",
    "json_output = json.dumps(json_structure, indent=4, ensure_ascii=False)"
   ]
  },
  {
   "cell_type": "markdown",
   "metadata": {},
   "source": [
    "### Indicateur 5 (hautes rémunérations)"
   ]
  },
  {
   "cell_type": "code",
   "execution_count": 20,
   "metadata": {},
   "outputs": [],
   "source": [
    "# extraire top salaire par personne sur l'année, selectionner le top 10"
   ]
  },
  {
   "cell_type": "code",
   "execution_count": 38,
   "metadata": {},
   "outputs": [],
   "source": [
    "df_salaires_filtered[\"salaire_proratise\"] = df_salaires_filtered[\"salaire_brut\"] * df_salaires_filtered[\"equiv_etp\"]\n",
    "df = df_salaires_filtered.groupby(by=[\"id_assure\", \"sexe\", \"month\", \"year\"], as_index=False).agg({\"equiv_etp\":\"sum\", \"salaire_proratise\":\"sum\"})\n",
    "df[\"salaire_mensuel\"] = df[\"salaire_proratise\"] / df[\"equiv_etp\"].replace(0, 1)\n",
    "df_rem = df.groupby(by=[\"sexe\",\"id_assure\"], as_index=False).agg({\"salaire_mensuel\":\"max\"})\n",
    "df_rem = df_rem.sort_values(by=\"salaire_mensuel\", ascending=False)\n",
    "repartition = df_rem.iloc[:10][\"sexe\"].value_counts()\n",
    "json_structure[f\"index . hautes rémunérations . femmes\"] = repartition.get(\"F\")\n",
    "json_structure[f\"index . hautes rémunérations . hommes\"] = repartition.get(\"H\")"
   ]
  },
  {
   "cell_type": "markdown",
   "metadata": {},
   "source": [
    "### Indicateur 4 (maternité)\n"
   ]
  },
  {
   "cell_type": "code",
   "execution_count": null,
   "metadata": {},
   "outputs": [],
   "source": []
  }
 ],
 "metadata": {
  "kernelspec": {
   "display_name": "Python 3 (ipykernel)",
   "language": "python",
   "name": "python3"
  },
  "language_info": {
   "codemirror_mode": {
    "name": "ipython",
    "version": 3
   },
   "file_extension": ".py",
   "mimetype": "text/x-python",
   "name": "python",
   "nbconvert_exporter": "python",
   "pygments_lexer": "ipython3",
   "version": "3.11.5"
  }
 },
 "nbformat": 4,
 "nbformat_minor": 4
}
