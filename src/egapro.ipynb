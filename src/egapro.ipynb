{
 "cells": [
  {
   "cell_type": "code",
   "execution_count": 41,
   "metadata": {},
   "outputs": [],
   "source": [
    "import pandas as pd"
   ]
  },
  {
   "cell_type": "code",
   "execution_count": 89,
   "metadata": {},
   "outputs": [],
   "source": [
    "import psycopg2\n",
    "\n",
    "# Establish a connection to the database\n",
    "# Replace 'database_name', 'user', and 'password' with your database details\n",
    "conn = psycopg2.connect(\n",
    "    dbname='dsn', \n",
    "    user='', \n",
    "    password='', \n",
    "    host='10.0.0.1'\n",
    ")\n",
    "\n",
    "# Create a cursor object\n",
    "cur = conn.cursor()\n",
    "\n",
    "# Execute a query\n",
    "cur.execute(\"\"\"\n",
    "    select\n",
    "\tEXTRACT(MONTH FROM ddadtsalaire_base.date_debut_paie) as MONTH,\n",
    "\tEXTRACT(YEAR FROM ddadtsalaire_base.date_debut_paie) as YEAR,\n",
    "  ddadtassure.id,\n",
    "\tddadtcontrat.num_contrat,\n",
    "  ddadtassure.sexe,\n",
    "  EXTRACT(YEAR FROM age(NOW(), TO_DATE(ddadtassure.date_naissance, 'DDMMYYYY'))) as age,\n",
    "  ddadtcontrat.unite_mesure,\n",
    "  ddadtcontrat.quotite,\n",
    "  ddadtcontrat.quotite_categorie,\n",
    "  ddadtcontrat.pcs_ese,\n",
    "\tddadtcontrat.statut_conventionnel, -- CSP\n",
    "\tddadtcontrat.dispositif_politique, -- CSP\n",
    "  ddadtcontrat.nature_contrat, -- S21.G00.40.007\n",
    "  ddadtsalaire_base.montant as SALAIRE_BRUT\n",
    "  from  ddadtsalaire_base\n",
    "\tleft join ddadtversement on ddadtversement.id=ddadtsalaire_base.id_versement\n",
    "  left join ddadtemployeur_assure on ddadtemployeur_assure.id=ddadtversement.id_employeur_assure\n",
    "  left join ddadtassure on ddadtassure.id=ddadtemployeur_assure.id_assure\n",
    "  left join ddadtcontrat on ddadtcontrat.id_employeur_assure=ddadtemployeur_assure.id and ddadtsalaire_base.numero_contrat=ddadtcontrat.num_contrat\n",
    "  where ddadtemployeur_assure.id_employeur=1069987\"\"\")\n",
    "\n",
    "# Fetch the results\n",
    "records = cur.fetchall()\n",
    "\n",
    "df_salaires = pd.DataFrame(records, columns=['month', 'year', 'id_assure', 'num_contrat', 'sexe', 'age', 'unite_mesure',\n",
    "       'quotite', 'quotite_categorie', 'pcs_ese', 'statut_conventionnel', 'dispositif_politique',\n",
    "       'nature_contrat', 'salaire_brut'])\n",
    "\n",
    "# Close the cursor and connection\n",
    "cur.close()\n",
    "conn.close()"
   ]
  },
  {
   "cell_type": "markdown",
   "metadata": {},
   "source": [
    "### Filtering data"
   ]
  },
  {
   "cell_type": "code",
   "execution_count": 113,
   "metadata": {},
   "outputs": [],
   "source": [
    "# Calcul du taux ETP\n",
    "df_salaires[\"equiv_etp\"] = df_salaires[\"quotite\"] / df_salaires[\"quotite_categorie\"]\n",
    "df_salaires[\"equiv_etp\"].apply(lambda x: min(x, 1))\n",
    "\n",
    "# Selection des personnes ayant un contrat de bonne nature légale, exclusion des apprentis et des contrats pro\n",
    "etp_annee = df_salaires.loc[(~df_salaires[\"nature_contrat\"].isin([\"08\", \"20\", \"21\", \"29\", \"50\", \"51\",\"52\", \"54\", \"70\", \"81\", \"90\"]))\n",
    "                            & (~df_salaires[\"dispositif_politique\"].isin([\"61\", \"64\", \"65\"]))\n",
    "                            & (df_salaires[\"year\"] == 2022), [\"id_assure\", \"equiv_etp\"]].groupby(by=\"id_assure\").sum()\n",
    "personnes_eligibles = etp_annee[etp_annee[\"equiv_etp\"] >= 6].index.values\n",
    "\n",
    "df_salaires_filtered = df_salaires[(df_salaires[\"year\"] == 2022) & (df_salaires[\"id_assure\"].isin(personnes_eligibles))].copy()"
   ]
  },
  {
   "cell_type": "markdown",
   "metadata": {},
   "source": [
    "### Mapping "
   ]
  },
  {
   "cell_type": "code",
   "execution_count": 118,
   "metadata": {},
   "outputs": [],
   "source": [
    "# Fais le mapping CSP\n",
    "mapping = {\n",
    "    \"01\": 'ouvriers',\n",
    "    \"02\": 'ouvriers',\n",
    "    \"03\": 'ingénieurs et cadres',\n",
    "    \"04\": 'ingénieurs et cadres',\n",
    "    \"05\": 'techniciens et agents de maitrise',\n",
    "    \"06\": 'employés',\n",
    "    \"07\": 'ouvriers',\n",
    "}\n",
    "df_salaires_filtered[\"categorie_csp\"] = df_salaires_filtered[\"statut_conventionnel\"].map(mapping)\n",
    "\n",
    "def categorize_age(age):\n",
    "    if age < 30:\n",
    "        return 'moins de 30 ans'\n",
    "    elif 30 <= age < 40:\n",
    "        return 'de 30 à 39 ans'\n",
    "    elif 40 <= age < 50:\n",
    "        return 'de 40 à 49 ans'\n",
    "    else:\n",
    "        return '50 ans et plus'\n",
    "\n",
    "# Apply the function to create the AgeCategory column\n",
    "df_salaires_filtered['categorie_age'] = df_salaires_filtered['age'].apply(categorize_age)"
   ]
  },
  {
   "cell_type": "markdown",
   "metadata": {},
   "source": [
    "### Indicateur 1"
   ]
  },
  {
   "cell_type": "code",
   "execution_count": 130,
   "metadata": {},
   "outputs": [],
   "source": [
    "import json\n",
    "\n",
    "df_salaires_filtered[\"salaire_proratise\"] = df_salaires_filtered[\"salaire_brut\"] * df_salaires_filtered[\"equiv_etp\"]\n",
    "df = df_salaires_filtered.groupby(by=[\"id_assure\", \"sexe\", \"categorie_age\", \"categorie_csp\"], as_index=False).aggregate({\"salaire_proratise\":\"sum\", \"equiv_etp\":\"sum\"})\n",
    "df[\"salaire_moyen\"] = df[\"salaire_proratise\"] / df[\"equiv_etp\"]\n",
    "\n",
    "# Attention on peut avoir des problèmes si plusieurs contrat pour la même personne.  Sinon on peut faire le calcul du salaire EQTP par salariés sur l'année. Calcul ETP aussi faux\n",
    "df = df.groupby(by=[\"sexe\", \"categorie_age\", \"categorie_csp\"]).aggregate({\"salaire_moyen\": \"mean\", \"id_assure\": \"count\"})\n",
    "json_structure = {}\n",
    "\n",
    "for (sexe, age, csp), row in df.iterrows() :\n",
    "    key_base = f\"index . écart rémunérations . {csp} . {age}\"\n",
    "    \n",
    "    if sexe == \"H\":\n",
    "        sex_key = \"hommes\"\n",
    "    else:\n",
    "        sex_key = \"femmes\"\n",
    "        \n",
    "    json_structure[f\"{key_base} . remunération annuelle brute moyenne par EQTP . {sex_key}\"] = row['salaire_moyen']\n",
    "    json_structure[f\"{key_base} . nombre salariés . {sex_key}\"] = row['id_assure']\n",
    "\n",
    "\n",
    "# Convert to JSON\n",
    "json_output = json.dumps(json_structure, indent=4, ensure_ascii=False)"
   ]
  }
 ],
 "metadata": {
  "kernelspec": {
   "display_name": "datascience",
   "language": "python",
   "name": "python3"
  },
  "language_info": {
   "codemirror_mode": {
    "name": "ipython",
    "version": 3
   },
   "file_extension": ".py",
   "mimetype": "text/x-python",
   "name": "python",
   "nbconvert_exporter": "python",
   "pygments_lexer": "ipython3",
   "version": "3.11.5"
  }
 },
 "nbformat": 4,
 "nbformat_minor": 2
}
